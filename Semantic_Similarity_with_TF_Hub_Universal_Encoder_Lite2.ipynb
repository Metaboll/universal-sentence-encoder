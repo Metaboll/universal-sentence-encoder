{
  "nbformat": 4,
  "nbformat_minor": 0,
  "metadata": {
    "colab": {
      "name": "Semantic Similarity with TF-Hub Universal Encoder Lite2",
      "provenance": [],
      "collapsed_sections": [
        "IJhWonqQN7u0"
      ],
      "include_colab_link": true
    },
    "kernelspec": {
      "display_name": "Python 3",
      "name": "python3"
    }
  },
  "cells": [
    {
      "cell_type": "markdown",
      "metadata": {
        "id": "view-in-github",
        "colab_type": "text"
      },
      "source": [
        "<a href=\"https://colab.research.google.com/github/Metaboll/universal-sentence-encoder/blob/master/Semantic_Similarity_with_TF_Hub_Universal_Encoder_Lite2.ipynb\" target=\"_parent\"><img src=\"https://colab.research.google.com/assets/colab-badge.svg\" alt=\"Open In Colab\"/></a>"
      ]
    },
    {
      "cell_type": "markdown",
      "metadata": {
        "colab_type": "text",
        "id": "j0HuiScHQ3OK"
      },
      "source": [
        "Vectores funciona aparentemenete bien con (yo, tu , el ).\n",
        "Pero no funcionabien con los verbos ser y estar.....\n",
        "15 de Abril de 2020\n",
        "\n",
        "\n",
        "\n"
      ]
    },
    {
      "cell_type": "markdown",
      "metadata": {
        "colab_type": "text",
        "id": "rWeEjoO5M0Cx"
      },
      "source": [
        "## Install required package for TF-Hub"
      ]
    },
    {
      "cell_type": "code",
      "metadata": {
        "id": "zfa3Q3Rq7OYD",
        "colab_type": "code",
        "colab": {}
      },
      "source": [
        "#https://github.com/swapnilg915/cosine_similarity_using_embeddings/blob/master/universal_sentence_encoder.py\n",
        "#https://github.com/tensorflow/tfjs-models/tree/master/universal-sentence-encoder\n",
        "#https://tfhub.dev/google/universal-sentence-encoder/4\n",
        "\n",
        "\n",
        "#EJEMPLOS \n",
        "https://github.com/tensorflow/hub/tree/master/examples/colab ----> EL GENERAL\n",
        "https://github.com/tensorflow/hub/blob/master/examples/colab/tf2_text_classification.ipynb\n",
        "\n",
        "\n",
        "https://colab.research.google.com/github/tensorflow/hub/blob/master/docs/tutorials/text_classification_with_tf_hub.ipynb\n",
        "\n",
        "https://www.dlology.com/blog/keras-meets-universal-sentence-encoder-transfer-learning-for-text-data/\n",
        "\n",
        "\n",
        "\n",
        "# LEMARIOS ( NOMBRES )\n",
        "\n",
        "https://github.com/olea/lemarios/blob/master/nombres-propios-es.txt\n",
        "\n",
        "#entiti extraction"
      ],
      "execution_count": 0,
      "outputs": []
    },
    {
      "cell_type": "markdown",
      "metadata": {
        "id": "GP0JddYPVU7I",
        "colab_type": "text"
      },
      "source": [
        ""
      ]
    },
    {
      "cell_type": "code",
      "metadata": {
        "id": "mGyiml0N7sKs",
        "colab_type": "code",
        "colab": {}
      },
      "source": [
        "import tensorflow as tf\n",
        "import tensorflow_hub as hub\n",
        "import numpy as np\n",
        "\n",
        "embed = hub.load(\"https://tfhub.dev/google/universal-sentence-encoder/4\")"
      ],
      "execution_count": 0,
      "outputs": []
    },
    {
      "cell_type": "code",
      "metadata": {
        "colab_type": "code",
        "id": "f5_potQBMzcU",
        "outputId": "7b9cb150-9bbb-422a-8530-43c91fe79df6",
        "colab": {
          "base_uri": "https://localhost:8080/",
          "height": 153
        }
      },
      "source": [
        "\n",
        "embeddings = embed([\n",
        "    \"La luna orbita sobre la tierra \",\n",
        "    \" La tierra orbita sobre el sol\",\"La tierra, la luna y \"])\n",
        "\n",
        "print(embeddings)\n",
        "print(type(embeddings))\n",
        "#print(embeddings[0])\n",
        "a = embeddings[0]\n",
        "b = embeddings[1]\n",
        "c = embeddings[2]"
      ],
      "execution_count": 0,
      "outputs": [
        {
          "output_type": "stream",
          "text": [
            "tf.Tensor(\n",
            "[[-0.00410226 -0.00843915  0.00671705 ... -0.05061137  0.01577783\n",
            "  -0.09208149]\n",
            " [-0.02468305 -0.02645192 -0.04890256 ... -0.08095843 -0.02346454\n",
            "  -0.09924603]\n",
            " [-0.00536531 -0.03702683  0.06401524 ... -0.02243907  0.0346784\n",
            "  -0.09377197]], shape=(3, 512), dtype=float32)\n",
            "<class 'tensorflow.python.framework.ops.EagerTensor'>\n"
          ],
          "name": "stdout"
        }
      ]
    },
    {
      "cell_type": "markdown",
      "metadata": {
        "colab_type": "text",
        "id": "WPXYQDBiFJHd"
      },
      "source": [
        "## Load the module from TF-Hub"
      ]
    },
    {
      "cell_type": "code",
      "metadata": {
        "id": "ZvY225wl35D8",
        "colab_type": "code",
        "colab": {}
      },
      "source": [
        "embed = hub.load(\"https://tfhub.dev/google/universal-sentence-encoder/4\")\n",
        "embeddings_yo = embed([\n",
        "    \"Yo soy alto \", \"Soy alto\",\"Soy guapo\",\"Yo soy gordo\",\"Yo corro mucho\",\"Yo cocino mas\",\"corro mucho\",\"cocino mas\",\"yo me llamo Fernando\",\"me llamo Fernando\"\n",
        "    , \"yo tengo un perro\",\"tengo un perro\",\"se lo mando\",\"yo se lo mando\",\"se lo cabo\",\"yo se lo cabo\",\"ahorro poco\",\"hago poco\"])\n",
        "embeddings_tu = embed([\n",
        "    \"Tu eres alto \", \"Eres alto\",\"Eres guapo\",\"Tu eres gordo\",\"Tu corres mucho\",\"Tu cocinas mas\",\" corres mucho\",\"cocinas mas\",\"Tu te llamas Fernando\",\"Te llamas Fernando\"\n",
        "    , \"Tu tienes un perro\",\"tienes un perro\",\"tu se lo mandas\",\"se lo mandas\",\"se lo cabas\",\"tu se lo cabas\",\"ahorras poco\",\"haces poco\"])\n",
        "embeddings_el = embed([\n",
        "    \"El es alto \", \"Es alto\",\"Es guapo\",\"El es gordo\",\"El corre mucho\",\"El cocina mas\",\" corre mucho\",\"cocina mas\",\"El se llama Fernando\",\"Se llama Fernando\"\n",
        "    , \"El tiene un perro\",\"tiene un perro\",\"el se lo manda\",\"se lo manda\",\"se lo caba\",\"el se lo caba\",\"ahorra poco\",\"hace poco\"])\n",
        "query_embeddings = embed([\n",
        "    \"Tu saltas\"])\n",
        "\n"
      ],
      "execution_count": 0,
      "outputs": []
    },
    {
      "cell_type": "code",
      "metadata": {
        "id": "VDANKAz0oev9",
        "colab_type": "code",
        "colab": {}
      },
      "source": [
        "embed = hub.load(\"https://tfhub.dev/google/universal-sentence-encoder/4\")\n",
        "embeddings_yo = embed([\n",
        "    \"soy\", \"yo Soy\",\"Yo corro\",\"Yo cocino\",\"corro\",\"cocino\",\"yo me llamo\",\"me llamo\"\n",
        "    , \"yo tengo\",\"tengo\",\"se lo mando\",\"yo se lo mando\",\"se lo cabo\",\"yo se lo cabo\",\"ahorro\",\"yo ahorro\"\n",
        "    , \"meo\", \"yo meo\",\"yo pinto\", \"pinto\",\"programo\",\"yo programo\",\"caigo\",\"yo caigo\",\"yo oigo\",\"oigo\",\"estudio\",\"yo estudio\",\"yo conduzco\",\"conduzco\"])\n",
        "embeddings_tu = embed([\n",
        "    \"eres\", \"tu eres\",\"Tu corres\",\"Tu cocinas\",\"corres\",\"cocinas\",\"tu me llamas\",\"me llamas\"\n",
        "    , \"tu tienes\",\"tienes\",\"se lo mandas\",\"tu se lo mandas\",\"se lo cabas\",\"tu se lo cabas\",\"ahorras\",\"tu ahorras\"\n",
        "    , \"meas\", \"tu meas\",\"tu pintas\", \"pintas\",\"programas\",\"tu programas\",\"caes\",\"tu caes\",\"tu oyes\",\"oyes\",\"estudias\",\"tu estudias\",\"tu conduces\",\"conduces\"])\n",
        "embeddings_el = embed([\n",
        "    \"es\", \"el es\",\"el corre\",\"el cocina\",\"corre\",\"cocina\",\"el se llama\",\"se llama\"\n",
        "    , \"el tiene\",\"tiene\",\"se lo manda\",\"el se lo manda\",\"se lo caba\",\"el se lo caba\",\"ahorra\",\"el ahorra\"\n",
        "    , \"mea\", \"el mea\",\"el pinta\", \"pinta\",\"programa\",\"el programa\",\"cae\",\"el cae\",\"el oye\",\"oye\",\"estudia\",\"el estudia\",\"el conduce\",\"conduce\"])"
      ],
      "execution_count": 0,
      "outputs": []
    },
    {
      "cell_type": "code",
      "metadata": {
        "id": "-ZyoFSSIRTBW",
        "colab_type": "code",
        "outputId": "72ba283c-66d2-48f4-ff2f-1f2784f9b140",
        "colab": {
          "base_uri": "https://localhost:8080/",
          "height": 68
        }
      },
      "source": [
        "\n",
        "total0 = 0.0\n",
        "total1 = 0.0\n",
        "total2 = 0.0\n",
        "embed = hub.load(\"https://tfhub.dev/google/universal-sentence-encoder/4\")\n",
        "query_embeddings = embed([\"el se lo cocina\"]) # se lo mando \"se dejo las llaves encima de la nevera\"\n",
        "    \n",
        "for embed in embeddings_yo:\n",
        "  corr = np.inner(embed, query_embeddings)\n",
        "  total0 += corr \n",
        "for embed in embeddings_tu:\n",
        "  corr = np.inner(embed, query_embeddings)\n",
        "  total1 += corr \n",
        "for embed in embeddings_el:\n",
        "  corr = np.inner(embed, query_embeddings)\n",
        "  total2 += corr \n",
        "\n",
        "\n",
        "print(total0/12)\n",
        "print(total1/12)\n",
        "print(total2/12)\n"
      ],
      "execution_count": 0,
      "outputs": [
        {
          "output_type": "stream",
          "text": [
            "[0.7540166]\n",
            "[0.62207645]\n",
            "[1.2123286]\n"
          ],
          "name": "stdout"
        }
      ]
    },
    {
      "cell_type": "code",
      "metadata": {
        "id": "tKolxrg0lEGN",
        "colab_type": "code",
        "colab": {}
      },
      "source": [
        "# NO FUNCIONA.  DIFERENCIAS ENTRE SER Y ESTAR\n",
        "embed = hub.load(\"https://tfhub.dev/google/universal-sentence-encoder/4\")\n",
        "embeddings_yo = embed([\n",
        "    \"Eres tan bonita\",\"mi hija es alta\",\"El es bajito\", \"El pasillo es estrecho\",\"La habitación es grande\",\"El cuarto es bonito\",\"La casa es inmensa\",\"El juguete es jigante\",\"El anillo es muy pequeño\",\"El coche es rojo\",\"El palo es muy largo\", \"La señal es corta\", \" eres feo\", \" fuistes blanco\", \"soy negro\", \"eres el robot mas bonito\", \"yo soy alto\", \"tu eres rubio\", \"el fue bajito\", \"ellos son romanos\", \"fuistes espabilado\", \"eso es tan raro\", \"eso es rojo\", \"eso fue extraño\", \"El es el hermano de Claudia\",\"el es muy linto\", \"El coche es altisimo\",\"La moto es muy rapida\",\"El patinete es lento\",\"los patines son comodos\",\"Las zapatillas son blancas\",\" La puerta es gorda\",\"La ventana es morada\",\"Ella es pelirroja\",\"El es moreno\",\"Elena es rubia\",\"Ella es muy guapa\",\"El es el extraño\",\"El triciclo es muy bonito\", \"Yo soy hermoso\",\"Es muy lenta\",\"Es extremadamente rapida\",\"Ella es muy agil\",\"La impresora es muy ruidosa\",\"La mosca es muy veloz\",\"La avispa es peligrosa\",\"Ana es superinteligente\",\"El aguila es extremadamente fuerte\",\"el destornillador es negro\",\"El tenedor es de plata\",\"El oro es muy denso\",\"El policia es estricta\",\"El jefe es serio\",\"La plata es brillante\",\"El espejo es grueso\",\"La madera es maciza\",\"El plastico es hueco\",\"La fachada es de piedra\",\"El acero es de Rusia\",\"El platino es de Armando\",\"El pan es barato\",\"El azucar es excesibamente caro\",\"Las nueces son sanas\",\"La comida es veneno\",\"Ella es demasiada seria\",\"Ella no es seria\",\"Ella es rapida\"])\n",
        "embeddings_tu = embed([\n",
        "    \"La musica esta alta\", \"Estaba muy bajo\", \"Estuve en turin\",\"Estuvo en la cocina\",\"Esta por encima de la media\",\"Ella esta muy alta\",\"El esta muy tonto\",\"Esta por encima del puntero\",\"el libro esta encima de la mesa\",\"El motor esta delante\",\"las maletas estan dentro del maletero\",\"La ropa esta en el armario\",\"El barco esta en el puerto\", \"Ella esta en la puerta de embarque\",\"La moto esta en el garaje\",\"el avion esta en la pista\",\"Ella esta enferma\",\"el esta sano\",\"el esta amarillo\", \"Debería de estar más abajo\",\"Ella esta mal\",\"El esta muy bien\", \"Tu estas muy bien\",\"Nosotros estamos sanos\",\"El lapicero esta en el estuche\",\"El camion esta esperando\",\"La furgoneta esta en labado de coches\",\"La llave esta rota\",\"El grifo esta arreglado\",\"El esta gordo\",\"tu estas flaco\",\"El esta muy delgado\", \"Ella esta en Cordoba\", \"Sara esta embarazada\",\"Fernando esta enfermo\", \"tiene quince años\"])\n",
        "\n"
      ],
      "execution_count": 0,
      "outputs": []
    },
    {
      "cell_type": "code",
      "metadata": {
        "id": "KBFpiOQUlscV",
        "colab_type": "code",
        "outputId": "51ea4c38-3b08-45e2-c509-78130f2eb754",
        "colab": {
          "base_uri": "https://localhost:8080/",
          "height": 51
        }
      },
      "source": [
        "total0 = 0.0\n",
        "total1 = 0.0\n",
        "total2 = 0.0\n",
        "embed = hub.load(\"https://tfhub.dev/google/universal-sentence-encoder/4\")\n",
        "query_embeddings = embed([\"Estuvo en la cocina\"]) # se lo mando \"se dejo las llaves encima de la nevera\"\n",
        "    \n",
        "for embed in embeddings_yo:\n",
        "  corr = np.inner(embed, query_embeddings)\n",
        "  total0 += corr \n",
        "for embed in embeddings_tu:\n",
        "  corr = np.inner(embed, query_embeddings)\n",
        "  total1 += corr \n",
        "\n",
        "\n",
        "print(total0/12)\n",
        "print(total1/12)\n"
      ],
      "execution_count": 0,
      "outputs": [
        {
          "output_type": "stream",
          "text": [
            "[2.4490464]\n",
            "[1.3998375]\n"
          ],
          "name": "stdout"
        }
      ]
    }
  ]
}